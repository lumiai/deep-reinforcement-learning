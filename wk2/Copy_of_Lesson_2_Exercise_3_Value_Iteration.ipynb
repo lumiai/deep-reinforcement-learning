{
  "nbformat": 4,
  "nbformat_minor": 0,
  "metadata": {
    "colab": {
      "name": "Copy of Lesson-2-Exercise-3-Value-Iteration.ipynb",
      "version": "0.3.2",
      "provenance": [],
      "collapsed_sections": []
    },
    "kernelspec": {
      "display_name": "Python 3",
      "language": "python",
      "name": "python3"
    }
  },
  "cells": [
    {
      "metadata": {
        "id": "-sPyQKWtcZyX",
        "colab_type": "code",
        "colab": {}
      },
      "cell_type": "code",
      "source": [
        "          _____                _____                    _____                    _____                    _____                    _____          \n",
        "         /\\    \\              /\\    \\                  /\\    \\                  /\\    \\                  /\\    \\                  /\\    \\         \n",
        "        /::\\    \\            /::\\    \\                /::\\    \\                /::\\    \\                /::\\    \\                /::\\    \\        \n",
        "       /::::\\    \\           \\:::\\    \\              /::::\\    \\              /::::\\    \\              /::::\\    \\               \\:::\\    \\       \n",
        "      /::::::\\    \\           \\:::\\    \\            /::::::\\    \\            /::::::\\    \\            /::::::\\    \\               \\:::\\    \\      \n",
        "     /:::/\\:::\\    \\           \\:::\\    \\          /:::/\\:::\\    \\          /:::/\\:::\\    \\          /:::/\\:::\\    \\               \\:::\\    \\     \n",
        "    /:::/__\\:::\\    \\           \\:::\\    \\        /:::/__\\:::\\    \\        /:::/__\\:::\\    \\        /:::/__\\:::\\    \\               \\:::\\    \\    \n",
        "    \\:::\\   \\:::\\    \\          /::::\\    \\      /::::\\   \\:::\\    \\      /::::\\   \\:::\\    \\      /::::\\   \\:::\\    \\              /::::\\    \\   \n",
        "  ___\\:::\\   \\:::\\    \\        /::::::\\    \\    /::::::\\   \\:::\\    \\    /::::::\\   \\:::\\    \\    /::::::\\   \\:::\\    \\    ____    /::::::\\    \\  \n",
        " /\\   \\:::\\   \\:::\\    \\      /:::/\\:::\\    \\  /:::/\\:::\\   \\:::\\    \\  /:::/\\:::\\   \\:::\\____\\  /:::/\\:::\\   \\:::\\    \\  /\\   \\  /:::/\\:::\\    \\ \n",
        "/::\\   \\:::\\   \\:::\\____\\    /:::/  \\:::\\____\\/:::/  \\:::\\   \\:::\\____\\/:::/  \\:::\\   \\:::|    |/:::/  \\:::\\   \\:::\\____\\/::\\   \\/:::/  \\:::\\____\\\n",
        "\\:::\\   \\:::\\   \\::/    /   /:::/    \\::/    /\\::/    \\:::\\  /:::/    /\\::/   |::::\\  /:::|____|\\::/    \\:::\\  /:::/    /\\:::\\  /:::/    \\::/    /\n",
        " \\:::\\   \\:::\\   \\/____/   /:::/    / \\/____/  \\/____/ \\:::\\/:::/    /  \\/____|:::::\\/:::/    /  \\/____/ \\:::\\/:::/    /  \\:::\\/:::/    / \\/____/ \n",
        "  \\:::\\   \\:::\\    \\      /:::/    /                    \\::::::/    /         |:::::::::/    /            \\::::::/    /    \\::::::/    /          \n",
        "   \\:::\\   \\:::\\____\\    /:::/    /                      \\::::/    /          |::|\\::::/    /              \\::::/    /      \\::::/____/           \n",
        "    \\:::\\  /:::/    /    \\::/    /                       /:::/    /           |::| \\::/____/               /:::/    /        \\:::\\    \\           \n",
        "     \\:::\\/:::/    /      \\/____/                       /:::/    /            |::|  ~|                    /:::/    /          \\:::\\    \\          \n",
        "      \\::::::/    /                                    /:::/    /             |::|   |                   /:::/    /            \\:::\\    \\         \n",
        "       \\::::/    /                                    /:::/    /              \\::|   |                  /:::/    /              \\:::\\____\\        \n",
        "        \\::/    /                                     \\::/    /                \\:|   |                  \\::/    /                \\::/    /        \n",
        "         \\/____/                                       \\/____/                  \\|___|                   \\/____/                  \\/____/         "
      ],
      "execution_count": 0,
      "outputs": []
    },
    {
      "metadata": {
        "id": "fnzEjiVpbO30",
        "colab_type": "text"
      },
      "cell_type": "markdown",
      "source": [
        "# Value Iteration Exercise\n",
        "\n",
        "## Task\n",
        "\n",
        "Implement value iteration algorithm:\n",
        "\n",
        "Instead of doing multiple steps of Policy Evaluation to find the optimal state value only do a single step and update the policy immediately.\n",
        "\n",
        "## Steps:\n",
        "\n",
        "- For each state calculate its action values using current policy and value function.\n",
        "- Identify the best action (i.e. the action with max value).\n",
        "- Update policy to always select this particular action.\n",
        "- Update state value function using selected action.\n",
        "- Iterate until policy and state value functions converged to optimal.\n",
        "\n",
        "### Hint:\n",
        "\n",
        "Look one step ahead and evaluate your actions first."
      ]
    },
    {
      "metadata": {
        "id": "nZBfsaU_aS6k",
        "colab_type": "text"
      },
      "cell_type": "markdown",
      "source": [
        "## What we implement\n",
        "\n",
        "$$\n",
        "Q_*(s,a) = R(s,a) + \\gamma \\sum_{s \\in S} P^a_{ss'} max(Q_*(s', a'))\n",
        "$$"
      ]
    },
    {
      "metadata": {
        "id": "iptm6YGSbyUF",
        "colab_type": "text"
      },
      "cell_type": "markdown",
      "source": [
        "## Implementation"
      ]
    },
    {
      "metadata": {
        "id": "lh5PZq3FkiWb",
        "colab_type": "code",
        "colab": {
          "base_uri": "https://localhost:8080/",
          "height": 323
        },
        "outputId": "38b9deee-d921-4469-eaec-509689b2d3f7"
      },
      "cell_type": "code",
      "source": [
        "# !python -m pip install -e git+https://github.com/star-ai/rl-environments.git#egg=rlenvs\n",
        "# !python -m pip install gym\n",
        "!pip install -e git+https://github.com/star-ai/rl-environments.git#egg=rlenvs\n",
        "!pip install gym"
      ],
      "execution_count": 3,
      "outputs": [
        {
          "output_type": "stream",
          "text": [
            "Obtaining rlenvs from git+https://github.com/star-ai/rl-environments.git#egg=rlenvs\n",
            "  Updating ./src/rlenvs clone\n",
            "Installing collected packages: rlenvs\n",
            "  Found existing installation: rlenvs 0.1\n",
            "    Can't uninstall 'rlenvs'. No files were found to uninstall.\n",
            "  Running setup.py develop for rlenvs\n",
            "Successfully installed rlenvs\n",
            "Requirement already satisfied: gym in /usr/local/lib/python3.6/dist-packages (0.10.8)\n",
            "Requirement already satisfied: six in /usr/local/lib/python3.6/dist-packages (from gym) (1.11.0)\n",
            "Requirement already satisfied: pyglet>=1.2.0 in /usr/local/lib/python3.6/dist-packages (from gym) (1.3.2)\n",
            "Requirement already satisfied: requests>=2.0 in /usr/local/lib/python3.6/dist-packages (from gym) (2.18.4)\n",
            "Requirement already satisfied: scipy in /usr/local/lib/python3.6/dist-packages (from gym) (0.19.1)\n",
            "Requirement already satisfied: numpy>=1.10.4 in /usr/local/lib/python3.6/dist-packages (from gym) (1.14.6)\n",
            "Requirement already satisfied: future in /usr/local/lib/python3.6/dist-packages (from pyglet>=1.2.0->gym) (0.16.0)\n",
            "Requirement already satisfied: idna<2.7,>=2.5 in /usr/local/lib/python3.6/dist-packages (from requests>=2.0->gym) (2.6)\n",
            "Requirement already satisfied: chardet<3.1.0,>=3.0.2 in /usr/local/lib/python3.6/dist-packages (from requests>=2.0->gym) (3.0.4)\n",
            "Requirement already satisfied: urllib3<1.23,>=1.21.1 in /usr/local/lib/python3.6/dist-packages (from requests>=2.0->gym) (1.22)\n",
            "Requirement already satisfied: certifi>=2017.4.17 in /usr/local/lib/python3.6/dist-packages (from requests>=2.0->gym) (2018.8.24)\n"
          ],
          "name": "stdout"
        }
      ]
    },
    {
      "metadata": {
        "id": "W6c6ihjqkgvl",
        "colab_type": "code",
        "colab": {}
      },
      "cell_type": "code",
      "source": [
        "from IPython.core.debugger import set_trace\n",
        "import numpy as np\n",
        "import pprint\n",
        "\n",
        "# Import below can all of a sudden break\n",
        "# NOTE: if running locally, remove src.rlenvs from import\n",
        "from src.rlenvs.rlenvs.envs.gridworld import GridworldEnv"
      ],
      "execution_count": 0,
      "outputs": []
    },
    {
      "metadata": {
        "id": "C-tcOuy7kgvq",
        "colab_type": "code",
        "colab": {}
      },
      "cell_type": "code",
      "source": [
        "pp = pprint.PrettyPrinter(indent=2)\n",
        "env = GridworldEnv()"
      ],
      "execution_count": 0,
      "outputs": []
    },
    {
      "metadata": {
        "id": "x_BtuSwtkgvw",
        "colab_type": "code",
        "colab": {}
      },
      "cell_type": "code",
      "source": [
        "def value_iteration(env, theta=0.0001, discount_factor=1.0):\n",
        "    \"\"\"\n",
        "    Value Iteration Algorithm.\n",
        "    \n",
        "    Args:\n",
        "        env: OpenAI env. env.P represents the transition probabilities of the environment.\n",
        "            env.P[s][a] is a list of transition tuples (prob, next_state, reward, done).\n",
        "            env.nS is a number of states in the environment. \n",
        "            env.nA is a number of actions in the environment.\n",
        "        theta: We stop evaluation once our value function change is less than theta for all states.\n",
        "        discount_factor: Gamma discount factor.\n",
        "        \n",
        "    Returns:\n",
        "        A tuple (policy, V) of the optimal policy and the optimal value function.        \n",
        "    \"\"\"\n",
        "    \n",
        "\n",
        "    V = np.zeros(env.nS)\n",
        "    \n",
        "    # Task 3 (or 2.5) - Ignore policy for task 2\n",
        "    while True:\n",
        "      prev_V = V.copy()\n",
        "      q = np.array([[sum([p * (r + discount_factor * V[s_]) for p, s_, r, _ in env.P[s][a]]) for a in range(env.nA)] for s in range(env.nS)])\n",
        "      V = np.max(q, axis = 1)\n",
        "      if np.max(np.abs(V - prev_V)) <= theta:\n",
        "        break\n",
        "        \n",
        "    policy = np.equal(q.transpose(), V.transpose())\n",
        "    policy = (policy / np.sum(policy, axis = 0)).transpose()  \n",
        "       \n",
        "    return policy, V"
      ],
      "execution_count": 0,
      "outputs": []
    },
    {
      "metadata": {
        "id": "wU_PcShktbQG",
        "colab_type": "code",
        "colab": {
          "base_uri": "https://localhost:8080/",
          "height": 323
        },
        "outputId": "61ef5b04-3aca-4d74-8729-052dbb71b857"
      },
      "cell_type": "code",
      "source": [
        "value_iteration(env)"
      ],
      "execution_count": 16,
      "outputs": [
        {
          "output_type": "execute_result",
          "data": {
            "text/plain": [
              "(array([[0.25, 0.25, 0.25, 0.25],\n",
              "        [0.  , 0.  , 0.  , 1.  ],\n",
              "        [0.  , 0.  , 0.  , 1.  ],\n",
              "        [0.  , 0.  , 0.5 , 0.5 ],\n",
              "        [1.  , 0.  , 0.  , 0.  ],\n",
              "        [0.5 , 0.  , 0.  , 0.5 ],\n",
              "        [0.25, 0.25, 0.25, 0.25],\n",
              "        [0.  , 0.  , 1.  , 0.  ],\n",
              "        [1.  , 0.  , 0.  , 0.  ],\n",
              "        [0.25, 0.25, 0.25, 0.25],\n",
              "        [0.  , 0.5 , 0.5 , 0.  ],\n",
              "        [0.  , 0.  , 1.  , 0.  ],\n",
              "        [0.5 , 0.5 , 0.  , 0.  ],\n",
              "        [0.  , 1.  , 0.  , 0.  ],\n",
              "        [0.  , 1.  , 0.  , 0.  ],\n",
              "        [0.25, 0.25, 0.25, 0.25]]),\n",
              " array([ 0., -1., -2., -3., -1., -2., -3., -2., -2., -3., -2., -1., -3.,\n",
              "        -2., -1.,  0.]))"
            ]
          },
          "metadata": {
            "tags": []
          },
          "execution_count": 16
        }
      ]
    },
    {
      "metadata": {
        "id": "Yj5XO-ulkgvy",
        "colab_type": "code",
        "colab": {
          "base_uri": "https://localhost:8080/",
          "height": 272
        },
        "outputId": "68458bc8-02c5-488c-b91d-a6cb92c1e577"
      },
      "cell_type": "code",
      "source": [
        "policy, v = value_iteration(env)\n",
        "\n",
        "print(\"Reshaped Grid Policy (0=up, 1=right, 2=down, 3=left):\")\n",
        "print(np.reshape(np.argmax(policy, axis=1), env.shape))\n",
        "print(\"\")\n",
        "\n",
        "print(\"Value Function:\")\n",
        "print(v)\n",
        "print(\"\")\n",
        "\n",
        "print(\"Reshaped Grid Value Function:\")\n",
        "print(v.reshape(env.shape))\n",
        "print(\"\")"
      ],
      "execution_count": 17,
      "outputs": [
        {
          "output_type": "stream",
          "text": [
            "Reshaped Grid Policy (0=up, 1=right, 2=down, 3=left):\n",
            "[[0 3 3 2]\n",
            " [0 0 0 2]\n",
            " [0 0 1 2]\n",
            " [0 1 1 0]]\n",
            "\n",
            "Value Function:\n",
            "[ 0. -1. -2. -3. -1. -2. -3. -2. -2. -3. -2. -1. -3. -2. -1.  0.]\n",
            "\n",
            "Reshaped Grid Value Function:\n",
            "[[ 0. -1. -2. -3.]\n",
            " [-1. -2. -3. -2.]\n",
            " [-2. -3. -2. -1.]\n",
            " [-3. -2. -1.  0.]]\n",
            "\n"
          ],
          "name": "stdout"
        }
      ]
    },
    {
      "metadata": {
        "id": "plT2NTxqkgvz",
        "colab_type": "code",
        "colab": {}
      },
      "cell_type": "code",
      "source": [
        "# Test the value function\n",
        "expected_v = np.array([ 0, -1, -2, -3, -1, -2, -3, -2, -2, -3, -2, -1, -3, -2, -1,  0])\n",
        "np.testing.assert_array_almost_equal(v, expected_v, decimal=2)"
      ],
      "execution_count": 0,
      "outputs": []
    },
    {
      "metadata": {
        "id": "0SlGz0N_kgv2",
        "colab_type": "code",
        "colab": {
          "base_uri": "https://localhost:8080/",
          "height": 323
        },
        "outputId": "d5356bb8-3e22-4d6e-e255-5aa5b320e1e1"
      },
      "cell_type": "code",
      "source": [
        "# Task 3, check policy\n",
        "print(\"Policy Probability Distribution:\")\n",
        "print(policy)\n",
        "print(\"\")"
      ],
      "execution_count": 19,
      "outputs": [
        {
          "output_type": "stream",
          "text": [
            "Policy Probability Distribution:\n",
            "[[0.25 0.25 0.25 0.25]\n",
            " [0.   0.   0.   1.  ]\n",
            " [0.   0.   0.   1.  ]\n",
            " [0.   0.   0.5  0.5 ]\n",
            " [1.   0.   0.   0.  ]\n",
            " [0.5  0.   0.   0.5 ]\n",
            " [0.25 0.25 0.25 0.25]\n",
            " [0.   0.   1.   0.  ]\n",
            " [1.   0.   0.   0.  ]\n",
            " [0.25 0.25 0.25 0.25]\n",
            " [0.   0.5  0.5  0.  ]\n",
            " [0.   0.   1.   0.  ]\n",
            " [0.5  0.5  0.   0.  ]\n",
            " [0.   1.   0.   0.  ]\n",
            " [0.   1.   0.   0.  ]\n",
            " [0.25 0.25 0.25 0.25]]\n",
            "\n"
          ],
          "name": "stdout"
        }
      ]
    },
    {
      "metadata": {
        "id": "nIjII3gZkwkY",
        "colab_type": "code",
        "colab": {}
      },
      "cell_type": "code",
      "source": [
        ""
      ],
      "execution_count": 0,
      "outputs": []
    }
  ]
}